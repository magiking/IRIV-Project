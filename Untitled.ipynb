{
 "cells": [
  {
   "cell_type": "code",
   "execution_count": 4,
   "metadata": {},
   "outputs": [
    {
     "name": "stdout",
     "output_type": "stream",
     "text": [
      "tokens:\n",
      "['the', 'less', 'there', 'is', 'to', 'justify', 'a', 'traditional', 'custom', ',', 'the', 'harder', 'it', 'is', 'to', 'get', 'rid', 'of', 'it', '.']\n",
      "-----------\n",
      "remove stop words\n",
      "['less', 'justify', 'traditional', 'custom', ',', 'harder', 'get', 'rid', '.']\n",
      "-----------------\n",
      "steming\n",
      "['less', 'justifi', 'tradit', 'custom', ',', 'harder', 'get', 'rid', '.']\n"
     ]
    }
   ],
   "source": [
    "from nltk import word_tokenize\n",
    "\n",
    "line = \"the less there is to justify a traditional custom, the harder it is to get rid of it.\"\n",
    "\n",
    "print(\"tokens:\")\n",
    "tokens = word_tokenize(line)\n",
    "print(tokens)\n",
    "print(\"-----------\")\n",
    "\n",
    "print(\"remove stop words\")\n",
    "from nltk.corpus import stopwords\n",
    "stop_words = stopwords.words('english')\n",
    "words = [w for w in tokens if not w in stop_words]\n",
    "print(words)\n",
    "print(\"-----------------\")\n",
    "\n",
    "print(\"steming\")\n",
    "from nltk.stem.porter import PorterStemmer\n",
    "porter = PorterStemmer()\n",
    "stemmed = [porter.stem(word) for word in words]\n",
    "print(stemmed)"
   ]
  },
  {
   "cell_type": "code",
   "execution_count": null,
   "metadata": {},
   "outputs": [],
   "source": []
  }
 ],
 "metadata": {
  "kernelspec": {
   "display_name": "Python 3",
   "language": "python",
   "name": "python3"
  },
  "language_info": {
   "codemirror_mode": {
    "name": "ipython",
    "version": 3
   },
   "file_extension": ".py",
   "mimetype": "text/x-python",
   "name": "python",
   "nbconvert_exporter": "python",
   "pygments_lexer": "ipython3",
   "version": "3.6.5"
  }
 },
 "nbformat": 4,
 "nbformat_minor": 2
}
